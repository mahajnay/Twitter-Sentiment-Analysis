{
  "nbformat": 4,
  "nbformat_minor": 0,
  "metadata": {
    "colab": {
      "name": "Covid19TwitterSentimentAnalysisFinal.ipynb",
      "provenance": [],
      "collapsed_sections": []
    },
    "kernelspec": {
      "name": "python3",
      "display_name": "Python 3"
    },
    "language_info": {
      "name": "python"
    }
  },
  "cells": [
    {
      "cell_type": "markdown",
      "source": [
        "**Installation of required Packages and libraries**"
      ],
      "metadata": {
        "id": "TVWtdFkqp23h"
      }
    },
    {
      "cell_type": "code",
      "source": [
        "!pip install textblob\n",
        "!pip install tweepy"
      ],
      "metadata": {
        "id": "gYoY_7g0I9bH",
        "colab": {
          "base_uri": "https://localhost:8080/"
        },
        "outputId": "bd8d6c3d-3690-47a4-b536-d5d55eea2f06"
      },
      "execution_count": 1,
      "outputs": [
        {
          "output_type": "stream",
          "name": "stdout",
          "text": [
            "Requirement already satisfied: textblob in /usr/local/lib/python3.7/dist-packages (0.15.3)\n",
            "Requirement already satisfied: nltk>=3.1 in /usr/local/lib/python3.7/dist-packages (from textblob) (3.2.5)\n",
            "Requirement already satisfied: six in /usr/local/lib/python3.7/dist-packages (from nltk>=3.1->textblob) (1.15.0)\n",
            "Requirement already satisfied: tweepy in /usr/local/lib/python3.7/dist-packages (3.10.0)\n",
            "Requirement already satisfied: six>=1.10.0 in /usr/local/lib/python3.7/dist-packages (from tweepy) (1.15.0)\n",
            "Requirement already satisfied: requests-oauthlib>=0.7.0 in /usr/local/lib/python3.7/dist-packages (from tweepy) (1.3.0)\n",
            "Requirement already satisfied: requests[socks]>=2.11.1 in /usr/local/lib/python3.7/dist-packages (from tweepy) (2.23.0)\n",
            "Requirement already satisfied: oauthlib>=3.0.0 in /usr/local/lib/python3.7/dist-packages (from requests-oauthlib>=0.7.0->tweepy) (3.1.1)\n",
            "Requirement already satisfied: certifi>=2017.4.17 in /usr/local/lib/python3.7/dist-packages (from requests[socks]>=2.11.1->tweepy) (2021.10.8)\n",
            "Requirement already satisfied: chardet<4,>=3.0.2 in /usr/local/lib/python3.7/dist-packages (from requests[socks]>=2.11.1->tweepy) (3.0.4)\n",
            "Requirement already satisfied: idna<3,>=2.5 in /usr/local/lib/python3.7/dist-packages (from requests[socks]>=2.11.1->tweepy) (2.10)\n",
            "Requirement already satisfied: urllib3!=1.25.0,!=1.25.1,<1.26,>=1.21.1 in /usr/local/lib/python3.7/dist-packages (from requests[socks]>=2.11.1->tweepy) (1.24.3)\n",
            "Requirement already satisfied: PySocks!=1.5.7,>=1.5.6 in /usr/local/lib/python3.7/dist-packages (from requests[socks]>=2.11.1->tweepy) (1.7.1)\n"
          ]
        }
      ]
    },
    {
      "cell_type": "code",
      "source": [
        "!pip install langdetect"
      ],
      "metadata": {
        "id": "MQPxKjc9BHIB",
        "colab": {
          "base_uri": "https://localhost:8080/"
        },
        "outputId": "9d20831b-53ad-487b-e26e-ecd10529225e"
      },
      "execution_count": 2,
      "outputs": [
        {
          "output_type": "stream",
          "name": "stdout",
          "text": [
            "Collecting langdetect\n",
            "  Downloading langdetect-1.0.9.tar.gz (981 kB)\n",
            "\u001b[?25l\r\u001b[K     |▍                               | 10 kB 20.8 MB/s eta 0:00:01\r\u001b[K     |▊                               | 20 kB 27.8 MB/s eta 0:00:01\r\u001b[K     |█                               | 30 kB 33.3 MB/s eta 0:00:01\r\u001b[K     |█▍                              | 40 kB 31.0 MB/s eta 0:00:01\r\u001b[K     |█▊                              | 51 kB 30.2 MB/s eta 0:00:01\r\u001b[K     |██                              | 61 kB 23.9 MB/s eta 0:00:01\r\u001b[K     |██▍                             | 71 kB 24.9 MB/s eta 0:00:01\r\u001b[K     |██▊                             | 81 kB 23.0 MB/s eta 0:00:01\r\u001b[K     |███                             | 92 kB 23.4 MB/s eta 0:00:01\r\u001b[K     |███▍                            | 102 kB 25.2 MB/s eta 0:00:01\r\u001b[K     |███▊                            | 112 kB 25.2 MB/s eta 0:00:01\r\u001b[K     |████                            | 122 kB 25.2 MB/s eta 0:00:01\r\u001b[K     |████▍                           | 133 kB 25.2 MB/s eta 0:00:01\r\u001b[K     |████▊                           | 143 kB 25.2 MB/s eta 0:00:01\r\u001b[K     |█████                           | 153 kB 25.2 MB/s eta 0:00:01\r\u001b[K     |█████▍                          | 163 kB 25.2 MB/s eta 0:00:01\r\u001b[K     |█████▊                          | 174 kB 25.2 MB/s eta 0:00:01\r\u001b[K     |██████                          | 184 kB 25.2 MB/s eta 0:00:01\r\u001b[K     |██████▍                         | 194 kB 25.2 MB/s eta 0:00:01\r\u001b[K     |██████▊                         | 204 kB 25.2 MB/s eta 0:00:01\r\u001b[K     |███████                         | 215 kB 25.2 MB/s eta 0:00:01\r\u001b[K     |███████▍                        | 225 kB 25.2 MB/s eta 0:00:01\r\u001b[K     |███████▊                        | 235 kB 25.2 MB/s eta 0:00:01\r\u001b[K     |████████                        | 245 kB 25.2 MB/s eta 0:00:01\r\u001b[K     |████████▍                       | 256 kB 25.2 MB/s eta 0:00:01\r\u001b[K     |████████▊                       | 266 kB 25.2 MB/s eta 0:00:01\r\u001b[K     |█████████                       | 276 kB 25.2 MB/s eta 0:00:01\r\u001b[K     |█████████▍                      | 286 kB 25.2 MB/s eta 0:00:01\r\u001b[K     |█████████▊                      | 296 kB 25.2 MB/s eta 0:00:01\r\u001b[K     |██████████                      | 307 kB 25.2 MB/s eta 0:00:01\r\u001b[K     |██████████▍                     | 317 kB 25.2 MB/s eta 0:00:01\r\u001b[K     |██████████▊                     | 327 kB 25.2 MB/s eta 0:00:01\r\u001b[K     |███████████                     | 337 kB 25.2 MB/s eta 0:00:01\r\u001b[K     |███████████▍                    | 348 kB 25.2 MB/s eta 0:00:01\r\u001b[K     |███████████▊                    | 358 kB 25.2 MB/s eta 0:00:01\r\u001b[K     |████████████                    | 368 kB 25.2 MB/s eta 0:00:01\r\u001b[K     |████████████▍                   | 378 kB 25.2 MB/s eta 0:00:01\r\u001b[K     |████████████▊                   | 389 kB 25.2 MB/s eta 0:00:01\r\u001b[K     |█████████████                   | 399 kB 25.2 MB/s eta 0:00:01\r\u001b[K     |█████████████▍                  | 409 kB 25.2 MB/s eta 0:00:01\r\u001b[K     |█████████████▊                  | 419 kB 25.2 MB/s eta 0:00:01\r\u001b[K     |██████████████                  | 430 kB 25.2 MB/s eta 0:00:01\r\u001b[K     |██████████████▍                 | 440 kB 25.2 MB/s eta 0:00:01\r\u001b[K     |██████████████▊                 | 450 kB 25.2 MB/s eta 0:00:01\r\u001b[K     |███████████████                 | 460 kB 25.2 MB/s eta 0:00:01\r\u001b[K     |███████████████▍                | 471 kB 25.2 MB/s eta 0:00:01\r\u001b[K     |███████████████▊                | 481 kB 25.2 MB/s eta 0:00:01\r\u001b[K     |████████████████                | 491 kB 25.2 MB/s eta 0:00:01\r\u001b[K     |████████████████▍               | 501 kB 25.2 MB/s eta 0:00:01\r\u001b[K     |████████████████▊               | 512 kB 25.2 MB/s eta 0:00:01\r\u001b[K     |█████████████████               | 522 kB 25.2 MB/s eta 0:00:01\r\u001b[K     |█████████████████▍              | 532 kB 25.2 MB/s eta 0:00:01\r\u001b[K     |█████████████████▊              | 542 kB 25.2 MB/s eta 0:00:01\r\u001b[K     |██████████████████              | 552 kB 25.2 MB/s eta 0:00:01\r\u001b[K     |██████████████████▍             | 563 kB 25.2 MB/s eta 0:00:01\r\u001b[K     |██████████████████▊             | 573 kB 25.2 MB/s eta 0:00:01\r\u001b[K     |███████████████████             | 583 kB 25.2 MB/s eta 0:00:01\r\u001b[K     |███████████████████▍            | 593 kB 25.2 MB/s eta 0:00:01\r\u001b[K     |███████████████████▊            | 604 kB 25.2 MB/s eta 0:00:01\r\u001b[K     |████████████████████            | 614 kB 25.2 MB/s eta 0:00:01\r\u001b[K     |████████████████████▍           | 624 kB 25.2 MB/s eta 0:00:01\r\u001b[K     |████████████████████▊           | 634 kB 25.2 MB/s eta 0:00:01\r\u001b[K     |█████████████████████           | 645 kB 25.2 MB/s eta 0:00:01\r\u001b[K     |█████████████████████▍          | 655 kB 25.2 MB/s eta 0:00:01\r\u001b[K     |█████████████████████▊          | 665 kB 25.2 MB/s eta 0:00:01\r\u001b[K     |██████████████████████          | 675 kB 25.2 MB/s eta 0:00:01\r\u001b[K     |██████████████████████▍         | 686 kB 25.2 MB/s eta 0:00:01\r\u001b[K     |██████████████████████▊         | 696 kB 25.2 MB/s eta 0:00:01\r\u001b[K     |███████████████████████         | 706 kB 25.2 MB/s eta 0:00:01\r\u001b[K     |███████████████████████▍        | 716 kB 25.2 MB/s eta 0:00:01\r\u001b[K     |███████████████████████▊        | 727 kB 25.2 MB/s eta 0:00:01\r\u001b[K     |████████████████████████        | 737 kB 25.2 MB/s eta 0:00:01\r\u001b[K     |████████████████████████▍       | 747 kB 25.2 MB/s eta 0:00:01\r\u001b[K     |████████████████████████▊       | 757 kB 25.2 MB/s eta 0:00:01\r\u001b[K     |█████████████████████████       | 768 kB 25.2 MB/s eta 0:00:01\r\u001b[K     |█████████████████████████▍      | 778 kB 25.2 MB/s eta 0:00:01\r\u001b[K     |█████████████████████████▊      | 788 kB 25.2 MB/s eta 0:00:01\r\u001b[K     |██████████████████████████      | 798 kB 25.2 MB/s eta 0:00:01\r\u001b[K     |██████████████████████████▍     | 808 kB 25.2 MB/s eta 0:00:01\r\u001b[K     |██████████████████████████▊     | 819 kB 25.2 MB/s eta 0:00:01\r\u001b[K     |███████████████████████████     | 829 kB 25.2 MB/s eta 0:00:01\r\u001b[K     |███████████████████████████▍    | 839 kB 25.2 MB/s eta 0:00:01\r\u001b[K     |███████████████████████████▊    | 849 kB 25.2 MB/s eta 0:00:01\r\u001b[K     |████████████████████████████    | 860 kB 25.2 MB/s eta 0:00:01\r\u001b[K     |████████████████████████████▍   | 870 kB 25.2 MB/s eta 0:00:01\r\u001b[K     |████████████████████████████▊   | 880 kB 25.2 MB/s eta 0:00:01\r\u001b[K     |█████████████████████████████   | 890 kB 25.2 MB/s eta 0:00:01\r\u001b[K     |█████████████████████████████▍  | 901 kB 25.2 MB/s eta 0:00:01\r\u001b[K     |█████████████████████████████▊  | 911 kB 25.2 MB/s eta 0:00:01\r\u001b[K     |██████████████████████████████  | 921 kB 25.2 MB/s eta 0:00:01\r\u001b[K     |██████████████████████████████▍ | 931 kB 25.2 MB/s eta 0:00:01\r\u001b[K     |██████████████████████████████▊ | 942 kB 25.2 MB/s eta 0:00:01\r\u001b[K     |███████████████████████████████ | 952 kB 25.2 MB/s eta 0:00:01\r\u001b[K     |███████████████████████████████▍| 962 kB 25.2 MB/s eta 0:00:01\r\u001b[K     |███████████████████████████████▊| 972 kB 25.2 MB/s eta 0:00:01\r\u001b[K     |████████████████████████████████| 981 kB 25.2 MB/s \n",
            "\u001b[?25hRequirement already satisfied: six in /usr/local/lib/python3.7/dist-packages (from langdetect) (1.15.0)\n",
            "Building wheels for collected packages: langdetect\n",
            "  Building wheel for langdetect (setup.py) ... \u001b[?25l\u001b[?25hdone\n",
            "  Created wheel for langdetect: filename=langdetect-1.0.9-py3-none-any.whl size=993242 sha256=736fd71a82380b69fc38bd1d79f5f09dbeb3f9a2be7616fe0919aa8bb5c49d0f\n",
            "  Stored in directory: /root/.cache/pip/wheels/c5/96/8a/f90c59ed25d75e50a8c10a1b1c2d4c402e4dacfa87f3aff36a\n",
            "Successfully built langdetect\n",
            "Installing collected packages: langdetect\n",
            "Successfully installed langdetect-1.0.9\n"
          ]
        }
      ]
    },
    {
      "cell_type": "code",
      "source": [
        "!pip install pycountry"
      ],
      "metadata": {
        "id": "RnUYZv5UBJr6",
        "colab": {
          "base_uri": "https://localhost:8080/"
        },
        "outputId": "551e2eed-4d94-426b-84e0-ac36ffe2efea"
      },
      "execution_count": 3,
      "outputs": [
        {
          "output_type": "stream",
          "name": "stdout",
          "text": [
            "Collecting pycountry\n",
            "  Downloading pycountry-20.7.3.tar.gz (10.1 MB)\n",
            "\u001b[K     |████████████████████████████████| 10.1 MB 11.7 MB/s \n",
            "\u001b[?25hBuilding wheels for collected packages: pycountry\n",
            "  Building wheel for pycountry (setup.py) ... \u001b[?25l\u001b[?25hdone\n",
            "  Created wheel for pycountry: filename=pycountry-20.7.3-py2.py3-none-any.whl size=10746883 sha256=aa95bca3837370392d44d3cde04bd6e123d026e2ff34d7846cca183bfaf24ca5\n",
            "  Stored in directory: /root/.cache/pip/wheels/57/e8/3f/120ccc1ff7541c108bc5d656e2a14c39da0d824653b62284c6\n",
            "Successfully built pycountry\n",
            "Installing collected packages: pycountry\n",
            "Successfully installed pycountry-20.7.3\n"
          ]
        }
      ]
    },
    {
      "cell_type": "code",
      "source": [
        "from textblob import TextBlob\n",
        "import sys\n",
        "import tweepy\n",
        "import matplotlib.pyplot as plt\n",
        "import pandas as pd\n",
        "import numpy as np\n",
        "import os\n",
        "import nltk\n",
        "import pycountry\n",
        "import re\n",
        "import string\n",
        "from wordcloud import WordCloud, STOPWORDS\n",
        "from PIL import Image\n",
        "from nltk.sentiment.vader import SentimentIntensityAnalyzer\n",
        "from langdetect import detect\n",
        "from nltk.stem import SnowballStemmer\n",
        "from nltk.sentiment.vader import SentimentIntensityAnalyzer\n",
        "from sklearn.feature_extraction.text import CountVectorizer"
      ],
      "metadata": {
        "id": "bUFbTtKPBMre",
        "colab": {
          "base_uri": "https://localhost:8080/"
        },
        "outputId": "e9b27ca8-2ad8-4c70-bb58-2dd087035308"
      },
      "execution_count": 6,
      "outputs": [
        {
          "output_type": "stream",
          "name": "stderr",
          "text": [
            "/usr/local/lib/python3.7/dist-packages/nltk/twitter/__init__.py:20: UserWarning: The twython library has not been installed. Some functionality from the twitter package will not be available.\n",
            "  warnings.warn(\"The twython library has not been installed. \"\n"
          ]
        }
      ]
    },
    {
      "cell_type": "markdown",
      "source": [
        "\n",
        "![image.png](data:image/png;base64,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)"
      ],
      "metadata": {
        "id": "JgqvtN4jqfMc"
      }
    },
    {
      "cell_type": "markdown",
      "source": [
        "**Extracting Twitter data with API**"
      ],
      "metadata": {
        "id": "_e2NLlUnqtQx"
      }
    },
    {
      "cell_type": "code",
      "source": [
        "consumer_key=\"KttnYYnl5nJVp6oUzAAooYBZC\"\n",
        "consumer_secret=\"e2kyx5RKcljzLsBuseB8mWXX5Qo5F7zx0ExpffFAvfVFSAOjPP\"\n",
        "access_token=\"1235994941135912960-03Skyj6HlM75ebx66KVZkAAjTNmEdM\"\n",
        "access_token_secret=\"Jp4J3J1oefK9jF7d886ePwiTOsihlLPRAHD2EC7HVPOAG\"\n",
        "\n",
        "import tweepy\n",
        "from time import sleep\n",
        "\n",
        "auth = tweepy.OAuthHandler(consumer_key, consumer_secret)\n",
        "auth.set_access_token(access_token, access_token_secret)\n",
        "api= tweepy.API(auth)"
      ],
      "metadata": {
        "id": "rPCFczpmBUZk"
      },
      "execution_count": 4,
      "outputs": []
    },
    {
      "cell_type": "markdown",
      "source": [
        "**Using Vader from NLTK for Sentiment Analysis**"
      ],
      "metadata": {
        "id": "6b1kAY_fq2W4"
      }
    },
    {
      "cell_type": "code",
      "source": [
        "nltk.download('vader_lexicon')"
      ],
      "metadata": {
        "id": "Z9iTD00hBZWr",
        "colab": {
          "base_uri": "https://localhost:8080/"
        },
        "outputId": "15211f9e-36fa-40d9-9c99-35328d77d943"
      },
      "execution_count": 7,
      "outputs": [
        {
          "output_type": "stream",
          "name": "stdout",
          "text": [
            "[nltk_data] Downloading package vader_lexicon to /root/nltk_data...\n"
          ]
        },
        {
          "output_type": "execute_result",
          "data": {
            "text/plain": [
              "True"
            ]
          },
          "metadata": {},
          "execution_count": 7
        }
      ]
    },
    {
      "cell_type": "markdown",
      "source": [
        "**SENTIMENT ANALYSIS WITH VADER**\n",
        "\n"
      ],
      "metadata": {
        "id": "-DC_5ioarAPg"
      }
    },
    {
      "cell_type": "code",
      "source": [
        "#Sentiment Analysis\n",
        "def percentage(part,whole):\n",
        " return 100 * float(part)/float(whole)\n",
        "keyword = input('Please enter keyword or hashtag to search: ')\n",
        "noOfTweet = int(input ('Please enter how many tweets to analyze: '))\n",
        "tweets = tweepy.Cursor(api.search, q=keyword).items(noOfTweet)\n",
        "positive = 0\n",
        "negative = 0\n",
        "neutral = 0\n",
        "polarity = 0\n",
        "tweet_list = []\n",
        "neutral_list = []\n",
        "negative_list = []\n",
        "positive_list = []\n",
        "for tweet in tweets:\n",
        " \n",
        " #print(tweet.text)\n",
        " tweet_list.append(tweet.text)\n",
        " analysis = TextBlob(tweet.text)\n",
        " score = SentimentIntensityAnalyzer().polarity_scores(tweet.text)\n",
        " neg = score['neg']\n",
        " neu = score['neu']\n",
        " pos = score['pos']\n",
        " comp = score['compound']\n",
        " polarity += analysis.sentiment.polarity\n",
        " \n",
        " if neg > pos:\n",
        "   negative_list.append(tweet.text)\n",
        "   negative += 1\n",
        " elif pos > neg:\n",
        "   positive_list.append(tweet.text)\n",
        "   positive += 1\n",
        " \n",
        " elif pos == neg:\n",
        "   neutral_list.append(tweet.text)\n",
        "   neutral += 1\n",
        "positive = percentage(positive, noOfTweet)\n",
        "negative = percentage(negative, noOfTweet)\n",
        "neutral = percentage(neutral, noOfTweet)\n",
        "polarity = percentage(polarity, noOfTweet)\n",
        "positive = format(positive, '.1f')\n",
        "negative = format(negative, '.1f')\n",
        "neutral = format(neutral, '.1f')"
      ],
      "metadata": {
        "id": "gPu1MaIuBZdZ",
        "colab": {
          "base_uri": "https://localhost:8080/"
        },
        "outputId": "5d7e66b7-b07a-43b0-88e7-297333f50e68"
      },
      "execution_count": 8,
      "outputs": [
        {
          "name": "stdout",
          "output_type": "stream",
          "text": [
            "Please enter keyword or hashtag to search: omicron, covid19\n",
            "Please enter how many tweets to analyze: 2500\n"
          ]
        }
      ]
    },
    {
      "cell_type": "markdown",
      "source": [
        "**Creating a Dataframe with Sentiments from Twitter API**"
      ],
      "metadata": {
        "id": "_LGf7IYYwGUA"
      }
    },
    {
      "cell_type": "code",
      "source": [
        "#Number of Tweets (Total, Positive, Negative, Neutral)\n",
        "tweet_list = pd.DataFrame(tweet_list)\n",
        "neutral_list = pd.DataFrame(neutral_list)\n",
        "negative_list = pd.DataFrame(negative_list)\n",
        "positive_list = pd.DataFrame(positive_list)\n",
        "print('total number: ',len(tweet_list))\n",
        "print('positive number: ',len(positive_list))\n",
        "print('negative number: ', len(negative_list))\n",
        "print('neutral number: ',len(neutral_list))"
      ],
      "metadata": {
        "id": "qrBiveadBdXk",
        "colab": {
          "base_uri": "https://localhost:8080/"
        },
        "outputId": "33b605c5-6394-46c8-f229-230fe5be543c"
      },
      "execution_count": 9,
      "outputs": [
        {
          "output_type": "stream",
          "name": "stdout",
          "text": [
            "total number:  2500\n",
            "positive number:  569\n",
            "negative number:  578\n",
            "neutral number:  1353\n"
          ]
        }
      ]
    },
    {
      "cell_type": "code",
      "source": [
        "negative_list[\"Sentiment\"] = 2\n",
        "positive_list[\"Sentiment\"] = 1\n",
        "neutral_list[\"Sentiment\"] = 0"
      ],
      "metadata": {
        "id": "7PRgT1-sBgLa"
      },
      "execution_count": 10,
      "outputs": []
    },
    {
      "cell_type": "markdown",
      "source": [
        "**Sentiment Analysis Result**"
      ],
      "metadata": {
        "id": "U83gIUqjwZN3"
      }
    },
    {
      "cell_type": "code",
      "source": [
        "labels = ['Positive ['+str(positive)+'%]' , 'Neutral ['+str(neutral)+'%]','Negative ['+str(negative)+'%]']\n",
        "sizes = [positive, neutral, negative]\n",
        "colors = ['yellowgreen', 'blue','red']\n",
        "patches, texts = plt.pie(sizes,colors=colors, startangle=90)\n",
        "plt.style.use('default')\n",
        "plt.legend(labels)\n",
        "plt.title('Sentiment Analysis Result for keyword= '+keyword+'')\n",
        "plt.axis('equal')\n",
        "plt.show()"
      ],
      "metadata": {
        "id": "5hz5tfMABnOT",
        "colab": {
          "base_uri": "https://localhost:8080/",
          "height": 264
        },
        "outputId": "11361cfa-9f72-44fe-b5e0-0503b707ccd3"
      },
      "execution_count": 11,
      "outputs": [
        {
          "output_type": "display_data",
          "data": {
            "image/png": "[encoded data removed]",
            "text/plain": [
              "<Figure size 432x288 with 1 Axes>"
            ]
          },
          "metadata": {}
        }
      ]
    },
    {
      "cell_type": "code",
      "source": [
        "tweets_final=pd.concat([negative_list,positive_list,neutral_list])"
      ],
      "metadata": {
        "id": "-sWHb1tQtQTS"
      },
      "execution_count": 14,
      "outputs": []
    },
    {
      "cell_type": "code",
      "source": [
        "#export_csv = tweets_final.to_csv (r'./tweets_final.csv', header=True)"
      ],
      "metadata": {
        "id": "uPAWJZ_AtsYI"
      },
      "execution_count": 15,
      "outputs": []
    },
    {
      "cell_type": "markdown",
      "source": [
        "**Data Cleaning Process:**"
      ],
      "metadata": {
        "id": "2AhOT3mswg9x"
      }
    },
    {
      "cell_type": "code",
      "source": [
        "tweets= pd.read_csv('/content/tweets_final.csv')\n"
      ],
      "metadata": {
        "id": "xAxav6sjIzJi"
      },
      "execution_count": 20,
      "outputs": []
    },
    {
      "cell_type": "code",
      "source": [
        "def remove_pattern(input_txt, pattern):\n",
        "    r = re.findall(pattern, input_txt)\n",
        "    for i in r:\n",
        "        input_txt = re.sub(i, '', input_txt)\n",
        "        \n",
        "    return input_txt   "
      ],
      "metadata": {
        "id": "4LqDfIfyJj_V"
      },
      "execution_count": 21,
      "outputs": []
    },
    {
      "cell_type": "code",
      "source": [
        "tweets['tidy_tweet'] = np.vectorize(remove_pattern)(tweets['tweets'], \"@[\\w]*\") \n",
        "tweets.head()"
      ],
      "metadata": {
        "colab": {
          "base_uri": "https://localhost:8080/",
          "height": 206
        },
        "id": "3U7TvSmYMH5a",
        "outputId": "0d9836e4-4d7c-4589-c18e-3da16df0560c"
      },
      "execution_count": 23,
      "outputs": [
        {
          "output_type": "execute_result",
          "data": {
            "text/html": [
              "\n",
              "  <div id=\"df-e57e31c8-86bf-4651-a9ef-d2d2bdd3f6bc\">\n",
              "    <div class=\"colab-df-container\">\n",
              "      <div>\n",
              "<style scoped>\n",
              "    .dataframe tbody tr th:only-of-type {\n",
              "        vertical-align: middle;\n",
              "    }\n",
              "\n",
              "    .dataframe tbody tr th {\n",
              "        vertical-align: top;\n",
              "    }\n",
              "\n",
              "    .dataframe thead th {\n",
              "        text-align: right;\n",
              "    }\n",
              "</style>\n",
              "<table border=\"1\" class=\"dataframe\">\n",
              "  <thead>\n",
              "    <tr style=\"text-align: right;\">\n",
              "      <th></th>\n",
              "      <th>tweets</th>\n",
              "      <th>Sentiment</th>\n",
              "      <th>tidy_tweet</th>\n",
              "    </tr>\n",
              "  </thead>\n",
              "  <tbody>\n",
              "    <tr>\n",
              "      <th>0</th>\n",
              "      <td>RT @DrEricDing: BREAKING—First #Omicron US dea...</td>\n",
              "      <td>2</td>\n",
              "      <td>RT : BREAKING—First #Omicron US death in Texas...</td>\n",
              "    </tr>\n",
              "    <tr>\n",
              "      <th>1</th>\n",
              "      <td>RT @DrEricDing: BREAKING—First #Omicron US dea...</td>\n",
              "      <td>2</td>\n",
              "      <td>RT : BREAKING—First #Omicron US death in Texas...</td>\n",
              "    </tr>\n",
              "    <tr>\n",
              "      <th>2</th>\n",
              "      <td>#Biden says he's \"considering reversing\" the c...</td>\n",
              "      <td>2</td>\n",
              "      <td>#Biden says he's \"considering reversing\" the c...</td>\n",
              "    </tr>\n",
              "    <tr>\n",
              "      <th>3</th>\n",
              "      <td>RT @DrEricDing: BREAKING—First #Omicron US dea...</td>\n",
              "      <td>2</td>\n",
              "      <td>RT : BREAKING—First #Omicron US death in Texas...</td>\n",
              "    </tr>\n",
              "    <tr>\n",
              "      <th>4</th>\n",
              "      <td>RT @07cameron18: R.I.P. Ryan Whitaker 😇\\nR.I.P...</td>\n",
              "      <td>2</td>\n",
              "      <td>RT : R.I.P. Ryan Whitaker 😇\\nR.I.P. Daniel Sha...</td>\n",
              "    </tr>\n",
              "  </tbody>\n",
              "</table>\n",
              "</div>\n",
              "      <button class=\"colab-df-convert\" onclick=\"convertToInteractive('df-e57e31c8-86bf-4651-a9ef-d2d2bdd3f6bc')\"\n",
              "              title=\"Convert this dataframe to an interactive table.\"\n",
              "              style=\"display:none;\">\n",
              "        \n",
              "  <svg xmlns=\"http://www.w3.org/2000/svg\" height=\"24px\"viewBox=\"0 0 24 24\"\n",
              "       width=\"24px\">\n",
              "    <path d=\"M0 0h24v24H0V0z\" fill=\"none\"/>\n",
              "    <path d=\"M18.56 5.44l.94 2.06.94-2.06 2.06-.94-2.06-.94-.94-2.06-.94 2.06-2.06.94zm-11 1L8.5 8.5l.94-2.06 2.06-.94-2.06-.94L8.5 2.5l-.94 2.06-2.06.94zm10 10l.94 2.06.94-2.06 2.06-.94-2.06-.94-.94-2.06-.94 2.06-2.06.94z\"/><path d=\"M17.41 7.96l-1.37-1.37c-.4-.4-.92-.59-1.43-.59-.52 0-1.04.2-1.43.59L10.3 9.45l-7.72 7.72c-.78.78-.78 2.05 0 2.83L4 21.41c.39.39.9.59 1.41.59.51 0 1.02-.2 1.41-.59l7.78-7.78 2.81-2.81c.8-.78.8-2.07 0-2.86zM5.41 20L4 18.59l7.72-7.72 1.47 1.35L5.41 20z\"/>\n",
              "  </svg>\n",
              "      </button>\n",
              "      \n",
              "  <style>\n",
              "    .colab-df-container {\n",
              "      display:flex;\n",
              "      flex-wrap:wrap;\n",
              "      gap: 12px;\n",
              "    }\n",
              "\n",
              "    .colab-df-convert {\n",
              "      background-color: #E8F0FE;\n",
              "      border: none;\n",
              "      border-radius: 50%;\n",
              "      cursor: pointer;\n",
              "      display: none;\n",
              "      fill: #1967D2;\n",
              "      height: 32px;\n",
              "      padding: 0 0 0 0;\n",
              "      width: 32px;\n",
              "    }\n",
              "\n",
              "    .colab-df-convert:hover {\n",
              "      background-color: #E2EBFA;\n",
              "      box-shadow: 0px 1px 2px rgba(60, 64, 67, 0.3), 0px 1px 3px 1px rgba(60, 64, 67, 0.15);\n",
              "      fill: #174EA6;\n",
              "    }\n",
              "\n",
              "    [theme=dark] .colab-df-convert {\n",
              "      background-color: #3B4455;\n",
              "      fill: #D2E3FC;\n",
              "    }\n",
              "\n",
              "    [theme=dark] .colab-df-convert:hover {\n",
              "      background-color: #434B5C;\n",
              "      box-shadow: 0px 1px 3px 1px rgba(0, 0, 0, 0.15);\n",
              "      filter: drop-shadow(0px 1px 2px rgba(0, 0, 0, 0.3));\n",
              "      fill: #FFFFFF;\n",
              "    }\n",
              "  </style>\n",
              "\n",
              "      <script>\n",
              "        const buttonEl =\n",
              "          document.querySelector('#df-e57e31c8-86bf-4651-a9ef-d2d2bdd3f6bc button.colab-df-convert');\n",
              "        buttonEl.style.display =\n",
              "          google.colab.kernel.accessAllowed ? 'block' : 'none';\n",
              "\n",
              "        async function convertToInteractive(key) {\n",
              "          const element = document.querySelector('#df-e57e31c8-86bf-4651-a9ef-d2d2bdd3f6bc');\n",
              "          const dataTable =\n",
              "            await google.colab.kernel.invokeFunction('convertToInteractive',\n",
              "                                                     [key], {});\n",
              "          if (!dataTable) return;\n",
              "\n",
              "          const docLinkHtml = 'Like what you see? Visit the ' +\n",
              "            '<a target=\"_blank\" href=https://colab.research.google.com/notebooks/data_table.ipynb>data table notebook</a>'\n",
              "            + ' to learn more about interactive tables.';\n",
              "          element.innerHTML = '';\n",
              "          dataTable['output_type'] = 'display_data';\n",
              "          await google.colab.output.renderOutput(dataTable, element);\n",
              "          const docLink = document.createElement('div');\n",
              "          docLink.innerHTML = docLinkHtml;\n",
              "          element.appendChild(docLink);\n",
              "        }\n",
              "      </script>\n",
              "    </div>\n",
              "  </div>\n",
              "  "
            ],
            "text/plain": [
              "                                              tweets  ...                                         tidy_tweet\n",
              "0  RT @DrEricDing: BREAKING—First #Omicron US dea...  ...  RT : BREAKING—First #Omicron US death in Texas...\n",
              "1  RT @DrEricDing: BREAKING—First #Omicron US dea...  ...  RT : BREAKING—First #Omicron US death in Texas...\n",
              "2  #Biden says he's \"considering reversing\" the c...  ...  #Biden says he's \"considering reversing\" the c...\n",
              "3  RT @DrEricDing: BREAKING—First #Omicron US dea...  ...  RT : BREAKING—First #Omicron US death in Texas...\n",
              "4  RT @07cameron18: R.I.P. Ryan Whitaker 😇\\nR.I.P...  ...  RT : R.I.P. Ryan Whitaker 😇\\nR.I.P. Daniel Sha...\n",
              "\n",
              "[5 rows x 3 columns]"
            ]
          },
          "metadata": {},
          "execution_count": 23
        }
      ]
    },
    {
      "cell_type": "code",
      "source": [
        "tweets['tidy_tweet'] = tweets['tidy_tweet'].str.replace(\"[^a-zA-Z#]\", \" \")\n",
        "tweets.head(10)"
      ],
      "metadata": {
        "colab": {
          "base_uri": "https://localhost:8080/",
          "height": 362
        },
        "id": "qFygKMs7MZjo",
        "outputId": "e139982d-11ba-49d5-dfa8-22ccaf7cf902"
      },
      "execution_count": 24,
      "outputs": [
        {
          "output_type": "execute_result",
          "data": {
            "text/html": [
              "\n",
              "  <div id=\"df-62cf2301-dec9-4e20-84d8-3b44b7a98c4f\">\n",
              "    <div class=\"colab-df-container\">\n",
              "      <div>\n",
              "<style scoped>\n",
              "    .dataframe tbody tr th:only-of-type {\n",
              "        vertical-align: middle;\n",
              "    }\n",
              "\n",
              "    .dataframe tbody tr th {\n",
              "        vertical-align: top;\n",
              "    }\n",
              "\n",
              "    .dataframe thead th {\n",
              "        text-align: right;\n",
              "    }\n",
              "</style>\n",
              "<table border=\"1\" class=\"dataframe\">\n",
              "  <thead>\n",
              "    <tr style=\"text-align: right;\">\n",
              "      <th></th>\n",
              "      <th>tweets</th>\n",
              "      <th>Sentiment</th>\n",
              "      <th>tidy_tweet</th>\n",
              "    </tr>\n",
              "  </thead>\n",
              "  <tbody>\n",
              "    <tr>\n",
              "      <th>0</th>\n",
              "      <td>RT @DrEricDing: BREAKING—First #Omicron US dea...</td>\n",
              "      <td>2</td>\n",
              "      <td>RT   BREAKING First #Omicron US death in Texas...</td>\n",
              "    </tr>\n",
              "    <tr>\n",
              "      <th>1</th>\n",
              "      <td>RT @DrEricDing: BREAKING—First #Omicron US dea...</td>\n",
              "      <td>2</td>\n",
              "      <td>RT   BREAKING First #Omicron US death in Texas...</td>\n",
              "    </tr>\n",
              "    <tr>\n",
              "      <th>2</th>\n",
              "      <td>#Biden says he's \"considering reversing\" the c...</td>\n",
              "      <td>2</td>\n",
              "      <td>#Biden says he s  considering reversing  the c...</td>\n",
              "    </tr>\n",
              "    <tr>\n",
              "      <th>3</th>\n",
              "      <td>RT @DrEricDing: BREAKING—First #Omicron US dea...</td>\n",
              "      <td>2</td>\n",
              "      <td>RT   BREAKING First #Omicron US death in Texas...</td>\n",
              "    </tr>\n",
              "    <tr>\n",
              "      <th>4</th>\n",
              "      <td>RT @07cameron18: R.I.P. Ryan Whitaker 😇\\nR.I.P...</td>\n",
              "      <td>2</td>\n",
              "      <td>RT   R I P  Ryan Whitaker   R I P  Daniel Shav...</td>\n",
              "    </tr>\n",
              "    <tr>\n",
              "      <th>5</th>\n",
              "      <td>RT @DrEricDing: BREAKING—First #Omicron US dea...</td>\n",
              "      <td>2</td>\n",
              "      <td>RT   BREAKING First #Omicron US death in Texas...</td>\n",
              "    </tr>\n",
              "    <tr>\n",
              "      <th>6</th>\n",
              "      <td>RT @TexGEOas: .\\nCovid19 appeared... Flu disap...</td>\n",
              "      <td>2</td>\n",
              "      <td>RT     Covid   appeared    Flu disappeared  De...</td>\n",
              "    </tr>\n",
              "    <tr>\n",
              "      <th>7</th>\n",
              "      <td>RT @DrEricDing: BREAKING—First #Omicron US dea...</td>\n",
              "      <td>2</td>\n",
              "      <td>RT   BREAKING First #Omicron US death in Texas...</td>\n",
              "    </tr>\n",
              "    <tr>\n",
              "      <th>8</th>\n",
              "      <td>RT @DrEricDing: BREAKING—First #Omicron US dea...</td>\n",
              "      <td>2</td>\n",
              "      <td>RT   BREAKING First #Omicron US death in Texas...</td>\n",
              "    </tr>\n",
              "    <tr>\n",
              "      <th>9</th>\n",
              "      <td>RT @CBCManitoba: As the Omicron variant threat...</td>\n",
              "      <td>2</td>\n",
              "      <td>RT   As the Omicron variant threatens to overw...</td>\n",
              "    </tr>\n",
              "  </tbody>\n",
              "</table>\n",
              "</div>\n",
              "      <button class=\"colab-df-convert\" onclick=\"convertToInteractive('df-62cf2301-dec9-4e20-84d8-3b44b7a98c4f')\"\n",
              "              title=\"Convert this dataframe to an interactive table.\"\n",
              "              style=\"display:none;\">\n",
              "        \n",
              "  <svg xmlns=\"http://www.w3.org/2000/svg\" height=\"24px\"viewBox=\"0 0 24 24\"\n",
              "       width=\"24px\">\n",
              "    <path d=\"M0 0h24v24H0V0z\" fill=\"none\"/>\n",
              "    <path d=\"M18.56 5.44l.94 2.06.94-2.06 2.06-.94-2.06-.94-.94-2.06-.94 2.06-2.06.94zm-11 1L8.5 8.5l.94-2.06 2.06-.94-2.06-.94L8.5 2.5l-.94 2.06-2.06.94zm10 10l.94 2.06.94-2.06 2.06-.94-2.06-.94-.94-2.06-.94 2.06-2.06.94z\"/><path d=\"M17.41 7.96l-1.37-1.37c-.4-.4-.92-.59-1.43-.59-.52 0-1.04.2-1.43.59L10.3 9.45l-7.72 7.72c-.78.78-.78 2.05 0 2.83L4 21.41c.39.39.9.59 1.41.59.51 0 1.02-.2 1.41-.59l7.78-7.78 2.81-2.81c.8-.78.8-2.07 0-2.86zM5.41 20L4 18.59l7.72-7.72 1.47 1.35L5.41 20z\"/>\n",
              "  </svg>\n",
              "      </button>\n",
              "      \n",
              "  <style>\n",
              "    .colab-df-container {\n",
              "      display:flex;\n",
              "      flex-wrap:wrap;\n",
              "      gap: 12px;\n",
              "    }\n",
              "\n",
              "    .colab-df-convert {\n",
              "      background-color: #E8F0FE;\n",
              "      border: none;\n",
              "      border-radius: 50%;\n",
              "      cursor: pointer;\n",
              "      display: none;\n",
              "      fill: #1967D2;\n",
              "      height: 32px;\n",
              "      padding: 0 0 0 0;\n",
              "      width: 32px;\n",
              "    }\n",
              "\n",
              "    .colab-df-convert:hover {\n",
              "      background-color: #E2EBFA;\n",
              "      box-shadow: 0px 1px 2px rgba(60, 64, 67, 0.3), 0px 1px 3px 1px rgba(60, 64, 67, 0.15);\n",
              "      fill: #174EA6;\n",
              "    }\n",
              "\n",
              "    [theme=dark] .colab-df-convert {\n",
              "      background-color: #3B4455;\n",
              "      fill: #D2E3FC;\n",
              "    }\n",
              "\n",
              "    [theme=dark] .colab-df-convert:hover {\n",
              "      background-color: #434B5C;\n",
              "      box-shadow: 0px 1px 3px 1px rgba(0, 0, 0, 0.15);\n",
              "      filter: drop-shadow(0px 1px 2px rgba(0, 0, 0, 0.3));\n",
              "      fill: #FFFFFF;\n",
              "    }\n",
              "  </style>\n",
              "\n",
              "      <script>\n",
              "        const buttonEl =\n",
              "          document.querySelector('#df-62cf2301-dec9-4e20-84d8-3b44b7a98c4f button.colab-df-convert');\n",
              "        buttonEl.style.display =\n",
              "          google.colab.kernel.accessAllowed ? 'block' : 'none';\n",
              "\n",
              "        async function convertToInteractive(key) {\n",
              "          const element = document.querySelector('#df-62cf2301-dec9-4e20-84d8-3b44b7a98c4f');\n",
              "          const dataTable =\n",
              "            await google.colab.kernel.invokeFunction('convertToInteractive',\n",
              "                                                     [key], {});\n",
              "          if (!dataTable) return;\n",
              "\n",
              "          const docLinkHtml = 'Like what you see? Visit the ' +\n",
              "            '<a target=\"_blank\" href=https://colab.research.google.com/notebooks/data_table.ipynb>data table notebook</a>'\n",
              "            + ' to learn more about interactive tables.';\n",
              "          element.innerHTML = '';\n",
              "          dataTable['output_type'] = 'display_data';\n",
              "          await google.colab.output.renderOutput(dataTable, element);\n",
              "          const docLink = document.createElement('div');\n",
              "          docLink.innerHTML = docLinkHtml;\n",
              "          element.appendChild(docLink);\n",
              "        }\n",
              "      </script>\n",
              "    </div>\n",
              "  </div>\n",
              "  "
            ],
            "text/plain": [
              "                                              tweets  ...                                         tidy_tweet\n",
              "0  RT @DrEricDing: BREAKING—First #Omicron US dea...  ...  RT   BREAKING First #Omicron US death in Texas...\n",
              "1  RT @DrEricDing: BREAKING—First #Omicron US dea...  ...  RT   BREAKING First #Omicron US death in Texas...\n",
              "2  #Biden says he's \"considering reversing\" the c...  ...  #Biden says he s  considering reversing  the c...\n",
              "3  RT @DrEricDing: BREAKING—First #Omicron US dea...  ...  RT   BREAKING First #Omicron US death in Texas...\n",
              "4  RT @07cameron18: R.I.P. Ryan Whitaker 😇\\nR.I.P...  ...  RT   R I P  Ryan Whitaker   R I P  Daniel Shav...\n",
              "5  RT @DrEricDing: BREAKING—First #Omicron US dea...  ...  RT   BREAKING First #Omicron US death in Texas...\n",
              "6  RT @TexGEOas: .\\nCovid19 appeared... Flu disap...  ...  RT     Covid   appeared    Flu disappeared  De...\n",
              "7  RT @DrEricDing: BREAKING—First #Omicron US dea...  ...  RT   BREAKING First #Omicron US death in Texas...\n",
              "8  RT @DrEricDing: BREAKING—First #Omicron US dea...  ...  RT   BREAKING First #Omicron US death in Texas...\n",
              "9  RT @CBCManitoba: As the Omicron variant threat...  ...  RT   As the Omicron variant threatens to overw...\n",
              "\n",
              "[10 rows x 3 columns]"
            ]
          },
          "metadata": {},
          "execution_count": 24
        }
      ]
    },
    {
      "cell_type": "code",
      "source": [
        "tweets['tidy_tweet'] = tweets['tidy_tweet'].apply(lambda x: ' '.join([w for w in x.split() if len(w)>3]))"
      ],
      "metadata": {
        "id": "wl-nFVh6MZm1"
      },
      "execution_count": 25,
      "outputs": []
    },
    {
      "cell_type": "code",
      "source": [
        "tweets"
      ],
      "metadata": {
        "colab": {
          "base_uri": "https://localhost:8080/",
          "height": 423
        },
        "id": "EIMoa9LPMZrH",
        "outputId": "5135acbe-744a-4d97-b6f8-79a341b3d365"
      },
      "execution_count": 26,
      "outputs": [
        {
          "output_type": "execute_result",
          "data": {
            "text/html": [
              "\n",
              "  <div id=\"df-82b647f9-b0f2-46f5-bde1-390513fe0768\">\n",
              "    <div class=\"colab-df-container\">\n",
              "      <div>\n",
              "<style scoped>\n",
              "    .dataframe tbody tr th:only-of-type {\n",
              "        vertical-align: middle;\n",
              "    }\n",
              "\n",
              "    .dataframe tbody tr th {\n",
              "        vertical-align: top;\n",
              "    }\n",
              "\n",
              "    .dataframe thead th {\n",
              "        text-align: right;\n",
              "    }\n",
              "</style>\n",
              "<table border=\"1\" class=\"dataframe\">\n",
              "  <thead>\n",
              "    <tr style=\"text-align: right;\">\n",
              "      <th></th>\n",
              "      <th>tweets</th>\n",
              "      <th>Sentiment</th>\n",
              "      <th>tidy_tweet</th>\n",
              "    </tr>\n",
              "  </thead>\n",
              "  <tbody>\n",
              "    <tr>\n",
              "      <th>0</th>\n",
              "      <td>RT @DrEricDing: BREAKING—First #Omicron US dea...</td>\n",
              "      <td>2</td>\n",
              "      <td>BREAKING First #Omicron death Texas unvaccinat...</td>\n",
              "    </tr>\n",
              "    <tr>\n",
              "      <th>1</th>\n",
              "      <td>RT @DrEricDing: BREAKING—First #Omicron US dea...</td>\n",
              "      <td>2</td>\n",
              "      <td>BREAKING First #Omicron death Texas unvaccinat...</td>\n",
              "    </tr>\n",
              "    <tr>\n",
              "      <th>2</th>\n",
              "      <td>#Biden says he's \"considering reversing\" the c...</td>\n",
              "      <td>2</td>\n",
              "      <td>#Biden says considering reversing current trav...</td>\n",
              "    </tr>\n",
              "    <tr>\n",
              "      <th>3</th>\n",
              "      <td>RT @DrEricDing: BREAKING—First #Omicron US dea...</td>\n",
              "      <td>2</td>\n",
              "      <td>BREAKING First #Omicron death Texas unvaccinat...</td>\n",
              "    </tr>\n",
              "    <tr>\n",
              "      <th>4</th>\n",
              "      <td>RT @07cameron18: R.I.P. Ryan Whitaker 😇\\nR.I.P...</td>\n",
              "      <td>2</td>\n",
              "      <td>Ryan Whitaker Daniel Shaver Eric Garner George...</td>\n",
              "    </tr>\n",
              "    <tr>\n",
              "      <th>...</th>\n",
              "      <td>...</td>\n",
              "      <td>...</td>\n",
              "      <td>...</td>\n",
              "    </tr>\n",
              "    <tr>\n",
              "      <th>2495</th>\n",
              "      <td>RT @CDCgov: As of 12/20/21, #Omicron has been ...</td>\n",
              "      <td>0</td>\n",
              "      <td>#Omicron been detected most states territories...</td>\n",
              "    </tr>\n",
              "    <tr>\n",
              "      <th>2496</th>\n",
              "      <td>RT @LorentzMathias: #Attal annonce tranquillem...</td>\n",
              "      <td>0</td>\n",
              "      <td>#Attal annonce tranquillement emeDose prot for...</td>\n",
              "    </tr>\n",
              "    <tr>\n",
              "      <th>2497</th>\n",
              "      <td>RT @_Bilderberg_: Le directeur général de l’#O...</td>\n",
              "      <td>0</td>\n",
              "      <td>directeur #OMS TedrosGebreyesus confirme #Vari...</td>\n",
              "    </tr>\n",
              "    <tr>\n",
              "      <th>2498</th>\n",
              "      <td>RT @AWokeZombie: #NY #COVID19 Ithaca data on w...</td>\n",
              "      <td>0</td>\n",
              "      <td>#COVID Ithaca data what supposed mostly Omicro...</td>\n",
              "    </tr>\n",
              "    <tr>\n",
              "      <th>2499</th>\n",
              "      <td>RT @Finanzas_Times: #Pfizer #BioNTech #Moderna...</td>\n",
              "      <td>0</td>\n",
              "      <td>#Pfizer #BioNTech #Moderna #AstraZeneca #Johns...</td>\n",
              "    </tr>\n",
              "  </tbody>\n",
              "</table>\n",
              "<p>2500 rows × 3 columns</p>\n",
              "</div>\n",
              "      <button class=\"colab-df-convert\" onclick=\"convertToInteractive('df-82b647f9-b0f2-46f5-bde1-390513fe0768')\"\n",
              "              title=\"Convert this dataframe to an interactive table.\"\n",
              "              style=\"display:none;\">\n",
              "        \n",
              "  <svg xmlns=\"http://www.w3.org/2000/svg\" height=\"24px\"viewBox=\"0 0 24 24\"\n",
              "       width=\"24px\">\n",
              "    <path d=\"M0 0h24v24H0V0z\" fill=\"none\"/>\n",
              "    <path d=\"M18.56 5.44l.94 2.06.94-2.06 2.06-.94-2.06-.94-.94-2.06-.94 2.06-2.06.94zm-11 1L8.5 8.5l.94-2.06 2.06-.94-2.06-.94L8.5 2.5l-.94 2.06-2.06.94zm10 10l.94 2.06.94-2.06 2.06-.94-2.06-.94-.94-2.06-.94 2.06-2.06.94z\"/><path d=\"M17.41 7.96l-1.37-1.37c-.4-.4-.92-.59-1.43-.59-.52 0-1.04.2-1.43.59L10.3 9.45l-7.72 7.72c-.78.78-.78 2.05 0 2.83L4 21.41c.39.39.9.59 1.41.59.51 0 1.02-.2 1.41-.59l7.78-7.78 2.81-2.81c.8-.78.8-2.07 0-2.86zM5.41 20L4 18.59l7.72-7.72 1.47 1.35L5.41 20z\"/>\n",
              "  </svg>\n",
              "      </button>\n",
              "      \n",
              "  <style>\n",
              "    .colab-df-container {\n",
              "      display:flex;\n",
              "      flex-wrap:wrap;\n",
              "      gap: 12px;\n",
              "    }\n",
              "\n",
              "    .colab-df-convert {\n",
              "      background-color: #E8F0FE;\n",
              "      border: none;\n",
              "      border-radius: 50%;\n",
              "      cursor: pointer;\n",
              "      display: none;\n",
              "      fill: #1967D2;\n",
              "      height: 32px;\n",
              "      padding: 0 0 0 0;\n",
              "      width: 32px;\n",
              "    }\n",
              "\n",
              "    .colab-df-convert:hover {\n",
              "      background-color: #E2EBFA;\n",
              "      box-shadow: 0px 1px 2px rgba(60, 64, 67, 0.3), 0px 1px 3px 1px rgba(60, 64, 67, 0.15);\n",
              "      fill: #174EA6;\n",
              "    }\n",
              "\n",
              "    [theme=dark] .colab-df-convert {\n",
              "      background-color: #3B4455;\n",
              "      fill: #D2E3FC;\n",
              "    }\n",
              "\n",
              "    [theme=dark] .colab-df-convert:hover {\n",
              "      background-color: #434B5C;\n",
              "      box-shadow: 0px 1px 3px 1px rgba(0, 0, 0, 0.15);\n",
              "      filter: drop-shadow(0px 1px 2px rgba(0, 0, 0, 0.3));\n",
              "      fill: #FFFFFF;\n",
              "    }\n",
              "  </style>\n",
              "\n",
              "      <script>\n",
              "        const buttonEl =\n",
              "          document.querySelector('#df-82b647f9-b0f2-46f5-bde1-390513fe0768 button.colab-df-convert');\n",
              "        buttonEl.style.display =\n",
              "          google.colab.kernel.accessAllowed ? 'block' : 'none';\n",
              "\n",
              "        async function convertToInteractive(key) {\n",
              "          const element = document.querySelector('#df-82b647f9-b0f2-46f5-bde1-390513fe0768');\n",
              "          const dataTable =\n",
              "            await google.colab.kernel.invokeFunction('convertToInteractive',\n",
              "                                                     [key], {});\n",
              "          if (!dataTable) return;\n",
              "\n",
              "          const docLinkHtml = 'Like what you see? Visit the ' +\n",
              "            '<a target=\"_blank\" href=https://colab.research.google.com/notebooks/data_table.ipynb>data table notebook</a>'\n",
              "            + ' to learn more about interactive tables.';\n",
              "          element.innerHTML = '';\n",
              "          dataTable['output_type'] = 'display_data';\n",
              "          await google.colab.output.renderOutput(dataTable, element);\n",
              "          const docLink = document.createElement('div');\n",
              "          docLink.innerHTML = docLinkHtml;\n",
              "          element.appendChild(docLink);\n",
              "        }\n",
              "      </script>\n",
              "    </div>\n",
              "  </div>\n",
              "  "
            ],
            "text/plain": [
              "                                                 tweets  ...                                         tidy_tweet\n",
              "0     RT @DrEricDing: BREAKING—First #Omicron US dea...  ...  BREAKING First #Omicron death Texas unvaccinat...\n",
              "1     RT @DrEricDing: BREAKING—First #Omicron US dea...  ...  BREAKING First #Omicron death Texas unvaccinat...\n",
              "2     #Biden says he's \"considering reversing\" the c...  ...  #Biden says considering reversing current trav...\n",
              "3     RT @DrEricDing: BREAKING—First #Omicron US dea...  ...  BREAKING First #Omicron death Texas unvaccinat...\n",
              "4     RT @07cameron18: R.I.P. Ryan Whitaker 😇\\nR.I.P...  ...  Ryan Whitaker Daniel Shaver Eric Garner George...\n",
              "...                                                 ...  ...                                                ...\n",
              "2495  RT @CDCgov: As of 12/20/21, #Omicron has been ...  ...  #Omicron been detected most states territories...\n",
              "2496  RT @LorentzMathias: #Attal annonce tranquillem...  ...  #Attal annonce tranquillement emeDose prot for...\n",
              "2497  RT @_Bilderberg_: Le directeur général de l’#O...  ...  directeur #OMS TedrosGebreyesus confirme #Vari...\n",
              "2498  RT @AWokeZombie: #NY #COVID19 Ithaca data on w...  ...  #COVID Ithaca data what supposed mostly Omicro...\n",
              "2499  RT @Finanzas_Times: #Pfizer #BioNTech #Moderna...  ...  #Pfizer #BioNTech #Moderna #AstraZeneca #Johns...\n",
              "\n",
              "[2500 rows x 3 columns]"
            ]
          },
          "metadata": {},
          "execution_count": 26
        }
      ]
    },
    {
      "cell_type": "markdown",
      "source": [
        "**Clean Data for Train and Test in Google Cloud**"
      ],
      "metadata": {
        "id": "YkddT1lLwm8F"
      }
    },
    {
      "cell_type": "code",
      "source": [
        "export_csv = tweets.to_csv (r'./tweetsFinal.csv', header=True)"
      ],
      "metadata": {
        "id": "3GMn2QHPNaWi"
      },
      "execution_count": null,
      "outputs": []
    }
  ]
}